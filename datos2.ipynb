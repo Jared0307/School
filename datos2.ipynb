{
  "nbformat": 4,
  "nbformat_minor": 0,
  "metadata": {
    "colab": {
      "provenance": [],
      "authorship_tag": "ABX9TyO8JkayDL3F+F+SiSA/2fxt",
      "include_colab_link": true
    },
    "kernelspec": {
      "name": "python3",
      "display_name": "Python 3"
    },
    "language_info": {
      "name": "python"
    }
  },
  "cells": [
    {
      "cell_type": "markdown",
      "metadata": {
        "id": "view-in-github",
        "colab_type": "text"
      },
      "source": [
        "<a href=\"https://colab.research.google.com/github/Jared0307/School/blob/main/datos2.ipynb\" target=\"_parent\"><img src=\"https://colab.research.google.com/assets/colab-badge.svg\" alt=\"Open In Colab\"/></a>"
      ]
    },
    {
      "cell_type": "markdown",
      "source": [
        "REFLEXION:\n",
        "                                                         \n",
        "¿Qué tipo de datos necesito para el problema que estoy intentando resolver?   \n",
        "\n",
        "la problematica que he encontrado es la contaminacion creciente en el aire de mexico y si se ha mejorado o empeorado la contaminacion aerea, por lo que necesito datos sobre la calidad del aire en los ultimos tiempos.\n",
        "       \n",
        "¿De qué origen puedo obtener estos datos?\n",
        "\n",
        "puedo consumir una api que es publica y la ofrece el gobierno de mexico que tiene datos recopilados de Google Air Quality Feed y con un codigo de python puedo generar un archivo csv apartir de la url de la api.\n",
        "\n",
        "¿Son precisos y fiables los datos de la fuente seleccionada?\n",
        "\n",
        "yo creo que si ya que los datos los genere con una api del gobierno\n",
        "\n",
        "¿Necesito datos en tiempo real o puedo trabajar con datos históricos?\n",
        "\n",
        "puedo trabajar con datos historicos ya que estos mostrarian un incremento o decremento de la contaminacion\n",
        "\n",
        "¿Tengo el hardware y software necesarios para procesar estos datos?\n",
        "\n",
        "si, ya que usare google colab y funciona en la nube y github pa guardar el proyecto\n",
        "\n",
        "¿La fuente de datos tiene una API o una forma eficiente de recopilar datos?\n",
        "\n",
        "tiene una api\n",
        "\n",
        "¿Tengo permiso para usar estos datos?\n",
        "\n",
        "si, ya que es del gobierno de mexico y es publica\n",
        "\n",
        "¿Existen preocupaciones de privacidad o seguridad que deban abordarse?\n",
        "\n",
        "no\n",
        "\n",
        "¿Hay algún costo asociado con el acceso a estos datos?\n",
        "\n",
        "ninguno\n",
        "\n",
        "¿Son fácilmente accesibles?\n",
        "\n",
        "si, la url esta publi"
      ],
      "metadata": {
        "id": "aQpVcSVuKt-u"
      }
    },
    {
      "cell_type": "markdown",
      "source": [
        "genero el archivo csv d euna api del gobierno\n",
        "API de indicadores de calidad del aire siguiendo la especificación Google Air Quality Feed"
      ],
      "metadata": {
        "id": "LjzJbWHiGuVl"
      }
    },
    {
      "cell_type": "code",
      "execution_count": 1,
      "metadata": {
        "colab": {
          "base_uri": "https://localhost:8080/"
        },
        "id": "a-fqlGyUETmS",
        "outputId": "a607e19f-e847-425e-d432-b2e2382697cd"
      },
      "outputs": [
        {
          "output_type": "stream",
          "name": "stdout",
          "text": [
            "Archivo CSV descargado como datos.csv\n"
          ]
        }
      ],
      "source": [
        "import requests\n",
        "\n",
        "# URL de la API que devuelve el archivo CSV\n",
        "url = \"https://api.datos.gob.mx/v1/calidadAire\"\n",
        "\n",
        "# Realizar una solicitud GET a la URL\n",
        "response = requests.get(url)\n",
        "\n",
        "# Verificar si la solicitud fue exitosa (código de respuesta 200)\n",
        "if response.status_code == 200:\n",
        "    # Nombre del archivo en el que se guardará el CSV\n",
        "    nombre_archivo = \"datos.csv\"\n",
        "\n",
        "    # Guardar la respuesta en un archivo CSV\n",
        "    with open(nombre_archivo, 'wb') as archivo:\n",
        "        archivo.write(response.content)\n",
        "\n",
        "    print(f\"Archivo CSV descargado como {nombre_archivo}\")\n",
        "else:\n",
        "    print(\"Error al descargar el archivo CSV\")\n",
        "\n"
      ]
    },
    {
      "cell_type": "code",
      "source": [],
      "metadata": {
        "id": "GwyUx83VHhHG"
      },
      "execution_count": null,
      "outputs": []
    }
  ]
}