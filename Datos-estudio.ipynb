{
  "nbformat": 4,
  "nbformat_minor": 0,
  "metadata": {
    "colab": {
      "provenance": [],
      "authorship_tag": "ABX9TyPTsSDLky+hFnwjLBM/3F3+",
      "include_colab_link": true
    },
    "kernelspec": {
      "name": "python3",
      "display_name": "Python 3"
    },
    "language_info": {
      "name": "python"
    }
  },
  "cells": [
    {
      "cell_type": "markdown",
      "metadata": {
        "id": "view-in-github",
        "colab_type": "text"
      },
      "source": [
        "<a href=\"https://colab.research.google.com/github/Jared0307/School/blob/main/Datos-estudio.ipynb\" target=\"_parent\"><img src=\"https://colab.research.google.com/assets/colab-badge.svg\" alt=\"Open In Colab\"/></a>"
      ]
    },
    {
      "cell_type": "markdown",
      "source": [
        "genero el archivo csv d euna api del gobierno\n",
        "API de indicadores de calidad del aire siguiendo la especificación Google Air Quality Feed"
      ],
      "metadata": {
        "id": "LjzJbWHiGuVl"
      }
    },
    {
      "cell_type": "code",
      "execution_count": 1,
      "metadata": {
        "colab": {
          "base_uri": "https://localhost:8080/"
        },
        "id": "a-fqlGyUETmS",
        "outputId": "a607e19f-e847-425e-d432-b2e2382697cd"
      },
      "outputs": [
        {
          "output_type": "stream",
          "name": "stdout",
          "text": [
            "Archivo CSV descargado como datos.csv\n"
          ]
        }
      ],
      "source": [
        "import requests\n",
        "\n",
        "# URL de la API que devuelve el archivo CSV\n",
        "url = \"https://api.datos.gob.mx/v1/calidadAire\"\n",
        "\n",
        "# Realizar una solicitud GET a la URL\n",
        "response = requests.get(url)\n",
        "\n",
        "# Verificar si la solicitud fue exitosa (código de respuesta 200)\n",
        "if response.status_code == 200:\n",
        "    # Nombre del archivo en el que se guardará el CSV\n",
        "    nombre_archivo = \"datos.csv\"\n",
        "\n",
        "    # Guardar la respuesta en un archivo CSV\n",
        "    with open(nombre_archivo, 'wb') as archivo:\n",
        "        archivo.write(response.content)\n",
        "\n",
        "    print(f\"Archivo CSV descargado como {nombre_archivo}\")\n",
        "else:\n",
        "    print(\"Error al descargar el archivo CSV\")\n",
        "\n"
      ]
    },
    {
      "cell_type": "code",
      "source": [],
      "metadata": {
        "id": "GwyUx83VHhHG"
      },
      "execution_count": null,
      "outputs": []
    }
  ]
}